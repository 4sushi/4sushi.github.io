{
 "cells": [
  {
   "cell_type": "markdown",
   "metadata": {},
   "source": [
    "## Simple example of searching for a strategy with pandas "
   ]
  },
  {
   "cell_type": "markdown",
   "metadata": {},
   "source": [
    "This is a simple example to research a strategy with python and pandas. Here, we don't smooth the prices, we don't apply transaction fees, we don't varify volumes."
   ]
  },
  {
   "cell_type": "code",
   "execution_count": 1,
   "metadata": {},
   "outputs": [],
   "source": [
    "import pandas as pd\n",
    "import os.path as path\n",
    "import numpy as np\n",
    "import matplotlib.pyplot as plt\n",
    "import time"
   ]
  },
  {
   "cell_type": "markdown",
   "metadata": {},
   "source": [
    "### Utils"
   ]
  },
  {
   "cell_type": "code",
   "execution_count": 2,
   "metadata": {},
   "outputs": [],
   "source": [
    "ONE_HOURE_MS = 1000*60*60\n",
    "INFO = True\n",
    "\n",
    "def pctEvol(first,last):\n",
    "    return (((last - first) / first)*100)"
   ]
  },
  {
   "cell_type": "code",
   "execution_count": 3,
   "metadata": {},
   "outputs": [],
   "source": [
    "buyPct = -1\n",
    "sellPct = 0.5\n",
    "sellSecurityPct = -2"
   ]
  },
  {
   "cell_type": "markdown",
   "metadata": {},
   "source": [
    "### Loading files"
   ]
  },
  {
   "cell_type": "code",
   "execution_count": 4,
   "metadata": {
    "scrolled": true
   },
   "outputs": [
    {
     "name": "stdout",
     "output_type": "stream",
     "text": [
      "../data/sec/ETHBTC/1519297200000.txt\n",
      "../data/sec/ETHBTC/1519300800000.txt\n",
      "../data/sec/ETHBTC/1519304400000.txt\n",
      "../data/sec/ETHBTC/1519308000000.txt\n",
      "../data/sec/ETHBTC/1519311600000.txt\n",
      "../data/sec/ETHBTC/1519315200000.txt\n",
      "../data/sec/ETHBTC/1519318800000.txt\n",
      "../data/sec/ETHBTC/1519322400000.txt\n",
      "../data/sec/ETHBTC/1519326000000.txt\n",
      "../data/sec/ETHBTC/1519329600000.txt\n",
      "../data/sec/ETHBTC/1519333200000.txt\n",
      "../data/sec/ETHBTC/1519336800000.txt\n",
      "../data/sec/ETHBTC/1519340400000.txt\n",
      "../data/sec/ETHBTC/1519344000000.txt\n",
      "../data/sec/ETHBTC/1519347600000.txt\n",
      "../data/sec/ETHBTC/1519351200000.txt\n",
      "../data/sec/ETHBTC/1519354800000.txt\n",
      "../data/sec/ETHBTC/1519358400000.txt\n",
      "../data/sec/ETHBTC/1519362000000.txt\n",
      "../data/sec/ETHBTC/1519365600000.txt\n",
      "../data/sec/ETHBTC/1519369200000.txt\n",
      "../data/sec/ETHBTC/1519372800000.txt\n",
      "../data/sec/ETHBTC/1519376400000.txt\n",
      "../data/sec/ETHBTC/1519380000000.txt\n",
      "../data/sec/ETHBTC/1519383600000.txt\n",
      "../data/sec/ETHBTC/1519387200000.txt\n",
      "../data/sec/ETHBTC/1519390800000.txt\n",
      "../data/sec/ETHBTC/1519394400000.txt\n",
      "../data/sec/ETHBTC/1519398000000.txt\n",
      "../data/sec/ETHBTC/1519401600000.txt\n",
      "../data/sec/ETHBTC/1519405200000.txt\n",
      "../data/sec/ETHBTC/1519408800000.txt\n",
      "../data/sec/ETHBTC/1519412400000.txt\n",
      "../data/sec/ETHBTC/1519416000000.txt\n",
      "../data/sec/ETHBTC/1519419600000.txt\n",
      "../data/sec/ETHBTC/1519423200000.txt\n",
      "../data/sec/ETHBTC/1519426800000.txt\n",
      "../data/sec/ETHBTC/1519430400000.txt\n",
      "../data/sec/ETHBTC/1519434000000.txt\n",
      "../data/sec/ETHBTC/1519437600000.txt\n",
      "../data/sec/ETHBTC/1519441200000.txt\n",
      "../data/sec/ETHBTC/1519444800000.txt\n",
      "../data/sec/ETHBTC/1519448400000.txt\n",
      "../data/sec/ETHBTC/1519452000000.txt\n",
      "../data/sec/ETHBTC/1519455600000.txt\n",
      "../data/sec/ETHBTC/1519459200000.txt\n",
      "../data/sec/ETHBTC/1519462800000.txt\n",
      "../data/sec/ETHBTC/1519466400000.txt\n",
      "../data/sec/ETHBTC/1519470000000.txt\n",
      "../data/sec/ETHBTC/1519473600000.txt\n",
      "../data/sec/ETHBTC/1519477200000.txt\n",
      "../data/sec/ETHBTC/1519480800000.txt\n",
      "../data/sec/ETHBTC/1519484400000.txt\n",
      "../data/sec/ETHBTC/1519488000000.txt\n",
      "../data/sec/ETHBTC/1519491600000.txt\n",
      "../data/sec/ETHBTC/1519495200000.txt\n",
      "../data/sec/ETHBTC/1519498800000.txt\n",
      "../data/sec/ETHBTC/1519502400000.txt\n",
      "../data/sec/ETHBTC/1519506000000.txt\n",
      "../data/sec/ETHBTC/1519509600000.txt\n",
      "../data/sec/ETHBTC/1519513200000.txt\n",
      "../data/sec/ETHBTC/1519516800000.txt\n",
      "../data/sec/ETHBTC/1519520400000.txt\n",
      "../data/sec/ETHBTC/1519524000000.txt\n",
      "../data/sec/ETHBTC/1519527600000.txt\n",
      "../data/sec/ETHBTC/1519531200000.txt\n",
      "../data/sec/ETHBTC/1519534800000.txt\n",
      "../data/sec/ETHBTC/1519538400000.txt\n",
      "../data/sec/ETHBTC/1519542000000.txt\n",
      "../data/sec/ETHBTC/1519545600000.txt\n",
      "../data/sec/ETHBTC/1519549200000.txt\n",
      "../data/sec/ETHBTC/1519552800000.txt\n",
      "../data/sec/ETHBTC/1519556400000.txt\n",
      "../data/sec/ETHBTC/1519560000000.txt\n",
      "../data/sec/ETHBTC/1519563600000.txt\n",
      "../data/sec/ETHBTC/1519567200000.txt\n",
      "../data/sec/ETHBTC/1519570800000.txt\n",
      "../data/sec/ETHBTC/1519574400000.txt\n",
      "../data/sec/ETHBTC/1519578000000.txt\n",
      "../data/sec/ETHBTC/1519581600000.txt\n",
      "../data/sec/ETHBTC/1519585200000.txt\n",
      "../data/sec/ETHBTC/1519588800000.txt\n",
      "../data/sec/ETHBTC/1519592400000.txt\n",
      "../data/sec/ETHBTC/1519596000000.txt\n",
      "../data/sec/ETHBTC/1519599600000.txt\n",
      "../data/sec/ETHBTC/1519603200000.txt\n",
      "../data/sec/ETHBTC/1519606800000.txt\n",
      "../data/sec/ETHBTC/1519610400000.txt\n",
      "../data/sec/ETHBTC/1519614000000.txt\n",
      "../data/sec/ETHBTC/1519617600000.txt\n",
      "../data/sec/ETHBTC/1519621200000.txt\n",
      "../data/sec/ETHBTC/1519624800000.txt\n",
      "../data/sec/ETHBTC/1519628400000.txt\n",
      "../data/sec/ETHBTC/1519632000000.txt\n",
      "../data/sec/ETHBTC/1519635600000.txt\n",
      "../data/sec/ETHBTC/1519639200000.txt\n",
      "../data/sec/ETHBTC/1519642800000.txt\n",
      "../data/sec/ETHBTC/1519646400000.txt\n",
      "../data/sec/ETHBTC/1519650000000.txt\n",
      "../data/sec/ETHBTC/1519653600000.txt\n",
      "../data/sec/ETHBTC/1519657200000.txt\n",
      "../data/sec/ETHBTC/1519660800000.txt\n",
      "../data/sec/ETHBTC/1519664400000.txt\n",
      "../data/sec/ETHBTC/1519668000000.txt\n",
      "../data/sec/ETHBTC/1519671600000.txt\n",
      "../data/sec/ETHBTC/1519675200000.txt\n",
      "../data/sec/ETHBTC/1519678800000.txt\n",
      "../data/sec/ETHBTC/1519682400000.txt\n",
      "../data/sec/ETHBTC/1519686000000.txt\n",
      "../data/sec/ETHBTC/1519689600000.txt\n",
      "../data/sec/ETHBTC/1519693200000.txt\n",
      "../data/sec/ETHBTC/1519696800000.txt\n",
      "../data/sec/ETHBTC/1519700400000.txt\n",
      "../data/sec/ETHBTC/1519704000000.txt\n",
      "../data/sec/ETHBTC/1519707600000.txt\n",
      "../data/sec/ETHBTC/1519711200000.txt\n",
      "../data/sec/ETHBTC/1519714800000.txt\n",
      "../data/sec/ETHBTC/1519718400000.txt\n",
      "../data/sec/ETHBTC/1519722000000.txt\n",
      "../data/sec/ETHBTC/1519725600000.txt\n",
      "../data/sec/ETHBTC/1519729200000.txt\n",
      "../data/sec/ETHBTC/1519732800000.txt\n",
      "../data/sec/ETHBTC/1519736400000.txt\n",
      "../data/sec/ETHBTC/1519740000000.txt\n",
      "../data/sec/ETHBTC/1519743600000.txt\n",
      "../data/sec/ETHBTC/1519747200000.txt\n",
      "../data/sec/ETHBTC/1519750800000.txt\n",
      "../data/sec/ETHBTC/1519754400000.txt\n",
      "../data/sec/ETHBTC/1519758000000.txt\n",
      "../data/sec/ETHBTC/1519761600000.txt\n",
      "../data/sec/ETHBTC/1519765200000.txt\n",
      "../data/sec/ETHBTC/1519768800000.txt\n",
      "../data/sec/ETHBTC/1519772400000.txt\n",
      "../data/sec/ETHBTC/1519776000000.txt\n",
      "../data/sec/ETHBTC/1519779600000.txt\n",
      "../data/sec/ETHBTC/1519783200000.txt\n",
      "../data/sec/ETHBTC/1519786800000.txt\n",
      "../data/sec/ETHBTC/1519790400000.txt\n",
      "../data/sec/ETHBTC/1519794000000.txt\n",
      "../data/sec/ETHBTC/1519797600000.txt\n",
      "../data/sec/ETHBTC/1519801200000.txt\n",
      "../data/sec/ETHBTC/1519804800000.txt\n",
      "../data/sec/ETHBTC/1519808400000.txt\n",
      "../data/sec/ETHBTC/1519812000000.txt\n",
      "../data/sec/ETHBTC/1519815600000.txt\n",
      "../data/sec/ETHBTC/1519819200000.txt\n",
      "../data/sec/ETHBTC/1519822800000.txt\n",
      "../data/sec/ETHBTC/1519826400000.txt\n",
      "../data/sec/ETHBTC/1519830000000.txt\n",
      "../data/sec/ETHBTC/1519833600000.txt\n",
      "../data/sec/ETHBTC/1519837200000.txt\n",
      "../data/sec/ETHBTC/1519840800000.txt\n",
      "../data/sec/ETHBTC/1519844400000.txt\n",
      "../data/sec/ETHBTC/1519848000000.txt\n",
      "../data/sec/ETHBTC/1519851600000.txt\n",
      "../data/sec/ETHBTC/1519855200000.txt\n",
      "../data/sec/ETHBTC/1519858800000.txt\n",
      "../data/sec/ETHBTC/1519862400000.txt\n",
      "../data/sec/ETHBTC/1519866000000.txt\n",
      "../data/sec/ETHBTC/1519869600000.txt\n",
      "../data/sec/ETHBTC/1519873200000.txt\n",
      "../data/sec/ETHBTC/1519876800000.txt\n",
      "../data/sec/ETHBTC/1519880400000.txt\n",
      "../data/sec/ETHBTC/1519884000000.txt\n",
      "../data/sec/ETHBTC/1519887600000.txt\n",
      "../data/sec/ETHBTC/1519891200000.txt\n",
      "../data/sec/ETHBTC/1519894800000.txt\n",
      "../data/sec/ETHBTC/1519898400000.txt\n",
      "../data/sec/ETHBTC/1519902000000.txt\n",
      "../data/sec/ETHBTC/1519905600000.txt\n",
      "../data/sec/ETHBTC/1519909200000.txt\n",
      "../data/sec/ETHBTC/1519912800000.txt\n",
      "info : 2104532 lines loaded\n"
     ]
    }
   ],
   "source": [
    "df = pd.DataFrame();\n",
    "\n",
    "startTimeFile = 1519297200000\n",
    "endTimeFile = 1519916400000 \n",
    "timeFile = startTimeFile\n",
    "while(timeFile < endTimeFile):\n",
    "    filePath = \"../data/sec/ETHBTC/\"+str(timeFile)+\".txt\"\n",
    "    timeFile += ONE_HOURE_MS\n",
    "    if(path.isfile(filePath)):\n",
    "        print(filePath)\n",
    "        dfFile = pd.read_csv(filePath)\n",
    "        dfFile['DATE'] = pd.to_datetime(dfFile['DATE'])\n",
    "        # Add file to main dataframe\n",
    "        # ignore_index=True -> reset index\n",
    "        df = df.append(dfFile, ignore_index=True)\n",
    "        df = df.sort_values(['DATE'])\n",
    "df['ID'] = df.index.values\n",
    "df.set_index('DATE', inplace=True)\n",
    "if(INFO): print(\"info :\", df.index.size, \"lines loaded\")"
   ]
  },
  {
   "cell_type": "code",
   "execution_count": 5,
   "metadata": {},
   "outputs": [
    {
     "data": {
      "text/html": [
       "<div>\n",
       "<style scoped>\n",
       "    .dataframe tbody tr th:only-of-type {\n",
       "        vertical-align: middle;\n",
       "    }\n",
       "\n",
       "    .dataframe tbody tr th {\n",
       "        vertical-align: top;\n",
       "    }\n",
       "\n",
       "    .dataframe thead th {\n",
       "        text-align: right;\n",
       "    }\n",
       "</style>\n",
       "<table border=\"1\" class=\"dataframe\">\n",
       "  <thead>\n",
       "    <tr style=\"text-align: right;\">\n",
       "      <th></th>\n",
       "      <th>PRICE</th>\n",
       "      <th>VOLUME</th>\n",
       "      <th>ID</th>\n",
       "    </tr>\n",
       "    <tr>\n",
       "      <th>DATE</th>\n",
       "      <th></th>\n",
       "      <th></th>\n",
       "      <th></th>\n",
       "    </tr>\n",
       "  </thead>\n",
       "  <tbody>\n",
       "    <tr>\n",
       "      <th>2018-02-22 12:05:32</th>\n",
       "      <td>0.080750</td>\n",
       "      <td>0.061</td>\n",
       "      <td>0</td>\n",
       "    </tr>\n",
       "    <tr>\n",
       "      <th>2018-02-22 12:05:32</th>\n",
       "      <td>0.080725</td>\n",
       "      <td>0.049</td>\n",
       "      <td>1</td>\n",
       "    </tr>\n",
       "  </tbody>\n",
       "</table>\n",
       "</div>"
      ],
      "text/plain": [
       "                        PRICE  VOLUME  ID\n",
       "DATE                                     \n",
       "2018-02-22 12:05:32  0.080750   0.061   0\n",
       "2018-02-22 12:05:32  0.080725   0.049   1"
      ]
     },
     "execution_count": 5,
     "metadata": {},
     "output_type": "execute_result"
    }
   ],
   "source": [
    "df.head(2)"
   ]
  },
  {
   "cell_type": "code",
   "execution_count": 6,
   "metadata": {},
   "outputs": [
    {
     "data": {
      "image/png": "[encoded data removed]",
      "text/plain": [
       "<Figure size 432x288 with 1 Axes>"
      ]
     },
     "metadata": {},
     "output_type": "display_data"
    }
   ],
   "source": [
    "df.plot(y=['PRICE']);\n",
    "plt.show();"
   ]
  },
  {
   "cell_type": "markdown",
   "metadata": {},
   "source": [
    "### Buy orders"
   ]
  },
  {
   "cell_type": "code",
   "execution_count": 7,
   "metadata": {},
   "outputs": [
    {
     "name": "stdout",
     "output_type": "stream",
     "text": [
      "info : number order buy = 9\n"
     ]
    }
   ],
   "source": [
    "# Prix max sur les 60 dernières secondes\n",
    "df['MAX_PRICE_1MIN'] = df['PRICE'].shift(1)\n",
    "df['MAX_PRICE_1MIN'] = df['MAX_PRICE_1MIN'].rolling('60s').max()\n",
    "# Chute de -2% sur une periode de 1 min par rapport au prix max\n",
    "df['BUY1'] = pctEvol(df['MAX_PRICE_1MIN'],df['PRICE']) < buyPct\n",
    "# On met à false les ordres d'achat qui sont après le premier ordre d'achat sur une période de 1min\n",
    "df['BUY2'] = df['BUY1'].shift(1).rolling('60s').apply(lambda x: (True in x) == False, raw=True)\n",
    "# Combinaison des conditions\n",
    "df['BUY'] = (df['BUY1'] == True) & (df['BUY2'] == True)\n",
    "# On indique le prix d'achat après un ordre d'achat\n",
    "df['BUY_PRICE'] = np.where(df['BUY'].shift(1)==True, df['PRICE'].shift(1), np.nan )\n",
    "#df['BUY3'] = df[df['BUY'] == True]['PRICE'].shift(freq='1s').rolling('10s').min()\n",
    "df = df.fillna(method='ffill')\n",
    "# Nombdre d'ordre d'achat\n",
    "orderBuy = df[:][df['BUY'] == True]\n",
    "if(INFO): print (\"info :\", \"number order buy =\",orderBuy['ID'].values.size)"
   ]
  },
  {
   "cell_type": "markdown",
   "metadata": {},
   "source": [
    "### Sell orders"
   ]
  },
  {
   "cell_type": "code",
   "execution_count": 8,
   "metadata": {},
   "outputs": [],
   "source": [
    " # Il y a eu un achat présent avant\n",
    "df['SELL1'] = (np.isfinite(df['BUY_PRICE'])) & (df['BUY'] == False)\n",
    "# On met un délai de 2 secondes après un achat pour pouvoir vendre\n",
    "df['SELL2'] = df['BUY'].shift(1).rolling('2s').apply(lambda x: (True in x) == False, raw=True)\n",
    "# Pourcentage évolution\n",
    "df['SELL3'] = (pctEvol(df['BUY_PRICE'],df['PRICE']) >= sellPct) | (pctEvol(df['BUY_PRICE'],df['PRICE']) <= sellSecurityPct)\n",
    "# Combinaison des conditions\n",
    "df['SELL4'] = (df['SELL1'] == True) & (df['SELL2'] == True) & (df['SELL3'] == True)\n",
    "# On récupère la première ligne pour chaque ordre de vente\n",
    "idValues = df[:][df['SELL4'] == True].groupby(['BUY_PRICE','SELL4']).first()['ID'].values\n",
    "df['SELL'] = df['ID'].isin(idValues)\n",
    "# Nombre d'ordre de vente\n",
    "orderSellGood = df[:][(df['SELL'] == True) & (df['PRICE'] > df['BUY_PRICE'])]\n",
    "orderSellSecurity = df[:][(df['SELL'] == True) & (df['PRICE'] < df['BUY_PRICE'])]"
   ]
  },
  {
   "cell_type": "markdown",
   "metadata": {},
   "source": [
    "### Analyse"
   ]
  },
  {
   "cell_type": "code",
   "execution_count": 9,
   "metadata": {},
   "outputs": [
    {
     "name": "stdout",
     "output_type": "stream",
     "text": [
      "info : number order sell good = 9\n",
      "info : number order sell security = 0\n",
      "buyPct = -1  sellPct = 0.5  sellSecurityPct = -2\n"
     ]
    }
   ],
   "source": [
    "if(INFO): print (\"info :\", \"number order sell good =\",orderSellGood['ID'].values.size)\n",
    "if(INFO): print (\"info :\", \"number order sell security =\", orderSellSecurity['ID'].values.size)\n",
    "if(INFO): print(\"buyPct =\", buyPct, \" sellPct =\", sellPct, \" sellSecurityPct =\", sellSecurityPct)"
   ]
  },
  {
   "cell_type": "code",
   "execution_count": null,
   "metadata": {},
   "outputs": [],
   "source": []
  }
 ],
 "metadata": {
  "kernelspec": {
   "display_name": "Python 3",
   "language": "python",
   "name": "python3"
  },
  "language_info": {
   "codemirror_mode": {
    "name": "ipython",
    "version": 3
   },
   "file_extension": ".py",
   "mimetype": "text/x-python",
   "name": "python",
   "nbconvert_exporter": "python",
   "pygments_lexer": "ipython3",
   "version": "3.6.5"
  }
 },
 "nbformat": 4,
 "nbformat_minor": 2
}
